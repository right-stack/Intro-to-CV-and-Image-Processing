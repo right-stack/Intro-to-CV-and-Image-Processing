{
 "cells": [
  {
   "cell_type": "markdown",
   "metadata": {},
   "source": [
    "<img src=\"http://vision.skills.network/logo-light.png\" width=\"400\" alt=\"CV Studio logo\"  />\n"
   ]
  },
  {
   "cell_type": "markdown",
   "metadata": {},
   "source": [
    "<h2>H.O.G. and SVM Image Classification with OpenCV and <a href=\"https://vision.skills.network/?utm_medium=Exinfluencer&utm_source=Exinfluencer&utm_content=000026UJ&utm_term=10006555&utm_id=NA-SkillsNetwork-Channel-cvstudio-2021-01-01\"> Computer Vision Learning Studio (CV Studio)</a></h2></h2>\n",
    "<h3>Project: Training_an_image_classifier_with_SVM</h3>\n",
    "<h3>Training Run: Train SVM image classifier</h3>\n"
   ]
  },
  {
   "cell_type": "markdown",
   "metadata": {},
   "source": [
    "Estimated time needed: **60** minutes\n"
   ]
  },
  {
   "cell_type": "markdown",
   "metadata": {},
   "source": [
    "You will learn how to train images with Support  Vector Machines (SVM). SVM is a supervised  learning  model that analyze data used for classification and regression analysis. We will be using SVM to classify images.\n"
   ]
  },
  {
   "cell_type": "markdown",
   "metadata": {},
   "source": [
    "## Objectives\n"
   ]
  },
  {
   "cell_type": "markdown",
   "metadata": {},
   "source": [
    "We will be classifying images using <code>Sklearn</code> and <a href=\"https://vision.skills.network/?utm_medium=Exinfluencer&utm_source=Exinfluencer&utm_content=000026UJ&utm_term=10006555&utm_id=NA-SkillsNetwork-Channel-cvstudio-2021-01-01\"> Computer Vision Learning Studio (CV Studio)</a>. CV Studio is a fast, easy and collaborative open-source Computer Vision tool for teams and individuals. You can upload your datasets and label them yourself. If you created a separate folder for each image class, the tool will do the labeling for you. H.O.G. combined with SVM was one of the ways image classification was done before more advanced methods like Deep Learning became popular.\n"
   ]
  },
  {
   "cell_type": "markdown",
   "metadata": {},
   "source": [
    "<ul>\n",
    "    <li>This tool contains the following sections:\n",
    "        <ul>\n",
    "            <li>Import Libraries</li>\n",
    "            <li>Image Files and Paths  </li>\n",
    "            <li>Plotting an Image </li>\n",
    "            <li>H.O.G. as a feature descriptor </li>\n",
    "            <li>SVM for Image classification </li>\n",
    "            <li>Save your model to CVStudio</li>\n",
    "            <li>What's Next</li>\n",
    "        </ul>\n",
    "    </li>\n",
    "</ul>\n"
   ]
  },
  {
   "cell_type": "markdown",
   "metadata": {},
   "source": [
    "* * *\n"
   ]
  },
  {
   "cell_type": "markdown",
   "metadata": {},
   "source": [
    "## Import Important Libraries and Define Auxilary Functions\n"
   ]
  },
  {
   "cell_type": "markdown",
   "metadata": {},
   "source": [
    "Libraries for data processing and visualization:\n"
   ]
  },
  {
   "cell_type": "code",
   "execution_count": 1,
   "metadata": {},
   "outputs": [],
   "source": [
    "import numpy as np\n",
    "import pandas as pd \n",
    "import matplotlib.pyplot as plt\n",
    "from imutils import paths\n",
    "import seaborn as sns\n",
    "import random\n",
    "import time\n",
    "from datetime import datetime"
   ]
  },
  {
   "cell_type": "markdown",
   "metadata": {},
   "source": [
    "Libraries for image pre-processing and classification:\n"
   ]
  },
  {
   "cell_type": "code",
   "execution_count": 2,
   "metadata": {},
   "outputs": [],
   "source": [
    "import cv2\n",
    "from sklearn.externals import joblib\n",
    "from skimage.feature import hog\n",
    "from sklearn.metrics import accuracy_score\n",
    "from sklearn.preprocessing import StandardScaler\n",
    "from sklearn.svm import SVC\n",
    "from sklearn.metrics import confusion_matrix\n",
    "from sklearn.model_selection import GridSearchCV"
   ]
  },
  {
   "cell_type": "markdown",
   "metadata": {},
   "source": [
    "Libraries for OS and Cloud:\n"
   ]
  },
  {
   "cell_type": "code",
   "execution_count": 3,
   "metadata": {},
   "outputs": [],
   "source": [
    "import os\n",
    "from skillsnetwork import cvstudio"
   ]
  },
  {
   "cell_type": "markdown",
   "metadata": {},
   "source": [
    "We will load and process every image. Let's go over some concepts:\n",
    "\n",
    "<ul>\n",
    "        <ul>\n",
    "            <li><code>cv2.resize()</code> to resize the image </li>\n",
    "            <li><code>cv2.COLOR_BGR2GRAY()</code> will convert the images to greyscale image</li>\n",
    "            <li><code>hog()</code> will get the H.O.G. features from the image </li>\n",
    "        </ul>\n",
    "    \n",
    "</ul>\n",
    "\n",
    "We will use this function to read and preprocess the images, the function will be explained in the **Histogram of Oriented Gradients (H.O.G.)** section.\n"
   ]
  },
  {
   "cell_type": "code",
   "execution_count": 4,
   "metadata": {},
   "outputs": [],
   "source": [
    "def load_images(image_paths):\n",
    "# loop over the input images\n",
    "    for (i, image_path) in enumerate(image_paths):\n",
    "        #read image\n",
    "        image = cv2.imread(image_path)\n",
    "        image = np.array(image).astype('uint8')\n",
    "        image = cv2.resize(image, (64, 64))\n",
    "        grey_image = cv2.cvtColor(image, cv2.COLOR_BGR2GRAY)\n",
    "        hog_features, hog_images = hog(grey_image,\n",
    "                              visualize=True,\n",
    "                              block_norm='L2-Hys',\n",
    "                              pixels_per_cell=(16, 16))\n",
    "        #label image using the annotations\n",
    "        label = class_object.index(annotations[\"annotations\"][image_path[7:]][0]['label'])\n",
    "        train_images.append(hog_features)\n",
    "        train_labels.append(label)\n"
   ]
  },
  {
   "cell_type": "markdown",
   "metadata": {},
   "source": [
    "## Download Your Images and Annotations\n",
    "\n",
    "We will train and classify them using the SVM classifier using the <code>Sklearn</code> library. Before we start, let's get the images and take a look at some of them.\n"
   ]
  },
  {
   "cell_type": "code",
   "execution_count": 5,
   "metadata": {},
   "outputs": [
    {
     "name": "stderr",
     "output_type": "stream",
     "text": [
      "100%|██████████| 200/200 [00:38<00:00,  5.22it/s]\n"
     ]
    }
   ],
   "source": [
    "# Initialize the CV Studio Client\n",
    "cvstudioClient = cvstudio.CVStudio()\n",
    "\n",
    "# Download All Images\n",
    "cvstudioClient.downloadAll()"
   ]
  },
  {
   "cell_type": "markdown",
   "metadata": {},
   "source": [
    "Get the annotations from CV Studio:\n"
   ]
  },
  {
   "cell_type": "code",
   "execution_count": 6,
   "metadata": {},
   "outputs": [],
   "source": [
    "annotations = cvstudioClient.get_annotations()"
   ]
  },
  {
   "cell_type": "markdown",
   "metadata": {},
   "source": [
    "Let's view the format of the annotations we've just downloaded. The following code will display only the first 5 annotations. The annotations will come in a JSON file. What you can see is the image name as the key and dog as label object.\n"
   ]
  },
  {
   "cell_type": "code",
   "execution_count": 7,
   "metadata": {},
   "outputs": [
    {
     "data": {
      "text/plain": [
       "{'ce49a070-ac1e-4bd5-ad5e-23b40bf4d988.jpg': [{'label': 'cat'}],\n",
       " 'c2a9168d-9516-4d75-a5c5-cb0578ae722e.jpg': [{'label': 'dog'}],\n",
       " 'ac79b45c-a8e1-46a1-94b0-1483bf60ef1c.jpg': [{'label': 'dog'}],\n",
       " '06c68f88-a358-4cc1-8068-39de01c0fff0.jpg': [{'label': 'dog'}],\n",
       " '5b5aa0f5-3e16-42cd-a107-921498362330.jpg': [{'label': 'cat'}]}"
      ]
     },
     "execution_count": 7,
     "metadata": {},
     "output_type": "execute_result"
    }
   ],
   "source": [
    "first_five = {k: annotations[\"annotations\"][k] for k in list(annotations[\"annotations\"])[:5]}\n",
    "first_five"
   ]
  },
  {
   "cell_type": "markdown",
   "metadata": {},
   "source": [
    "## Histogram of Oriented Gradients (H.O.G.)\n"
   ]
  },
  {
   "cell_type": "markdown",
   "metadata": {},
   "source": [
    "H.O.G. generates a histogram for each localized region. We will pick a random image and see how H.O.G. works.\n"
   ]
  },
  {
   "cell_type": "code",
   "execution_count": 8,
   "metadata": {},
   "outputs": [],
   "source": [
    "sample_image = 'images/' + random.choice(list(annotations[\"annotations\"].keys()))"
   ]
  },
  {
   "cell_type": "markdown",
   "metadata": {},
   "source": [
    "To create H.O.G. features, we will first convert the image to a grayscale image.\n"
   ]
  },
  {
   "cell_type": "code",
   "execution_count": 9,
   "metadata": {},
   "outputs": [],
   "source": [
    "sample_image = cv2.imread(sample_image)"
   ]
  },
  {
   "cell_type": "markdown",
   "metadata": {},
   "source": [
    "Resize the image to a smaller size to allow the algorithm to run faster and convert the images to the grayscale to reduce the number of channels. `OpenCV` reads images as `BGR` so we will be using that color channel to convert to grayscale. \n",
    "\n",
    "Early developers at `OpenCV` chose `BGR` color format because it was the format that was popular among camera manufacturers and software providers.\n"
   ]
  },
  {
   "cell_type": "code",
   "execution_count": 10,
   "metadata": {},
   "outputs": [],
   "source": [
    "sample_image = cv2.resize(sample_image, (64, 64))\n",
    "sample_image = cv2.cvtColor(sample_image, cv2.COLOR_BGR2GRAY)"
   ]
  },
  {
   "cell_type": "markdown",
   "metadata": {},
   "source": [
    "Plot the data to look at what it looks like:\n"
   ]
  },
  {
   "cell_type": "code",
   "execution_count": 11,
   "metadata": {},
   "outputs": [
    {
     "data": {
      "text/plain": [
       "<matplotlib.image.AxesImage at 0x7f3dd0240080>"
      ]
     },
     "execution_count": 11,
     "metadata": {},
     "output_type": "execute_result"
    },
    {
     "data": {
      "image/png": "[encoded data removed]",
      "text/plain": [
       "<Figure size 432x288 with 1 Axes>"
      ]
     },
     "metadata": {
      "needs_background": "light"
     },
     "output_type": "display_data"
    }
   ],
   "source": [
    "plt.imshow(sample_image, cmap=plt.cm.gray)"
   ]
  },
  {
   "cell_type": "markdown",
   "metadata": {},
   "source": [
    "Run H.O.G. on the grayscale image to see what it will look like.\n",
    "\n",
    "H.O.G. stands for Histogram of Oriented Gradients. It uses the gradient orientation of the localized regions of an image and generates a histogram for each localized region.\n"
   ]
  },
  {
   "cell_type": "code",
   "execution_count": 12,
   "metadata": {},
   "outputs": [
    {
     "data": {
      "text/plain": [
       "<matplotlib.image.AxesImage at 0x7f3dd0197cf8>"
      ]
     },
     "execution_count": 12,
     "metadata": {},
     "output_type": "execute_result"
    },
    {
     "data": {
      "image/png": "[encoded data removed]",
      "text/plain": [
       "<Figure size 432x288 with 1 Axes>"
      ]
     },
     "metadata": {
      "needs_background": "light"
     },
     "output_type": "display_data"
    }
   ],
   "source": [
    "## when we run H.O.G., it returns an array of features and the image/output it produced\n",
    "## the featurre is what we use to train the SVM model\n",
    "sample_image_features, sample_hog_image = hog(sample_image,\n",
    "                              visualize=True,\n",
    "                              block_norm='L2-Hys',\n",
    "                              pixels_per_cell=(16, 16))\n",
    "\n",
    "## lets look at what the H.O.G. feature looks like\n",
    "plt.imshow(sample_hog_image, cmap=plt.cm.gray)"
   ]
  },
  {
   "cell_type": "markdown",
   "metadata": {},
   "source": [
    "## Load Images and Generate Training/Testing Dataset\n"
   ]
  },
  {
   "cell_type": "markdown",
   "metadata": {},
   "source": [
    "Initiate a location for saving loaded images:\n"
   ]
  },
  {
   "cell_type": "code",
   "execution_count": 13,
   "metadata": {},
   "outputs": [],
   "source": [
    "image_paths = list(paths.list_images('images'))\n",
    "train_images = []\n",
    "train_labels = []\n",
    "class_object = annotations['labels']"
   ]
  },
  {
   "cell_type": "markdown",
   "metadata": {},
   "source": [
    "Use the function on the image path:\n"
   ]
  },
  {
   "cell_type": "code",
   "execution_count": 14,
   "metadata": {},
   "outputs": [],
   "source": [
    "load_images(image_paths)"
   ]
  },
  {
   "cell_type": "markdown",
   "metadata": {},
   "source": [
    "Create an array of the images and use the <code>np.vstack</code> to vertically stack arrays for wrangling.\n"
   ]
  },
  {
   "cell_type": "code",
   "execution_count": 15,
   "metadata": {},
   "outputs": [],
   "source": [
    "train_array = np.array(train_images)\n",
    "train_array = np.vstack(train_array)"
   ]
  },
  {
   "cell_type": "markdown",
   "metadata": {},
   "source": [
    "We will <code>reshape</code> the array to <code>(label size, 1)</code>. The array will look like this: <code>[[1], [0], ..., [0]]</code></p>\n"
   ]
  },
  {
   "cell_type": "code",
   "execution_count": 16,
   "metadata": {},
   "outputs": [],
   "source": [
    "labels_array = np.array(train_labels)"
   ]
  },
  {
   "cell_type": "code",
   "execution_count": 17,
   "metadata": {},
   "outputs": [],
   "source": [
    "labels_array = labels_array.astype(int)\n",
    "labels_array = labels_array.reshape((labels_array.size,1))"
   ]
  },
  {
   "cell_type": "markdown",
   "metadata": {},
   "source": [
    "Concatenate the images and labels:\n"
   ]
  },
  {
   "cell_type": "code",
   "execution_count": 18,
   "metadata": {},
   "outputs": [],
   "source": [
    "train_df = np.concatenate([train_array, labels_array], axis = 1)"
   ]
  },
  {
   "cell_type": "markdown",
   "metadata": {},
   "source": [
    "Divide the data into a training and test set:\n"
   ]
  },
  {
   "cell_type": "code",
   "execution_count": 19,
   "metadata": {},
   "outputs": [],
   "source": [
    "percentage = 75\n",
    "partition = int(len(train_df)*percentage/100)"
   ]
  },
  {
   "cell_type": "code",
   "execution_count": 20,
   "metadata": {},
   "outputs": [],
   "source": [
    "x_train, x_test = train_df[:partition,:-1],  train_df[partition:,:-1]\n",
    "y_train, y_test = train_df[:partition,-1:].ravel(), train_df[partition:,-1:].ravel()"
   ]
  },
  {
   "cell_type": "markdown",
   "metadata": {},
   "source": [
    "## Hyperparameters\n"
   ]
  },
  {
   "cell_type": "markdown",
   "metadata": {},
   "source": [
    "The kernel type to be used is a hyperparameter. The most common kernels are <code>RBF</code>, <code>poly</code>, or <code>sigmoid</code>. You can also create your own kernel.\n",
    "\n",
    "<code>C</code> behaves as a regularization parameter in the SVM. The <code>C</code> parameter trades off correct classification of the training examples against the maximization of the decision function’s margin. For larger values of <code>C</code>, a smaller margin will be accepted if the decision function is better at classifying all training points correctly. A lower <code>C</code> will encourage a larger margin, therefore a simpler decision function at the cost of accuracy. We select C and the best kernel by using the validation data. \n"
   ]
  },
  {
   "cell_type": "markdown",
   "metadata": {},
   "source": [
    "The  python dictionary <code>param_grid</code>  has different kernels and values of C. We can test them using the validation data.\n"
   ]
  },
  {
   "cell_type": "code",
   "execution_count": 21,
   "metadata": {},
   "outputs": [],
   "source": [
    "param_grid = {'kernel': ('linear', 'rbf'),'C': [1, 10, 100]}"
   ]
  },
  {
   "cell_type": "markdown",
   "metadata": {},
   "source": [
    "<code>gamma</code> is a parameter of the RBF kernel and can be thought of as the spread of the kernel and, therefore, the decision region. Low values mean ‘far’ and high values mean ‘close’. The behaviour of the model is very sensitive to the gamma parameter. If gamma is too large, the radius of the area of influence of the support vectors only includes the support vector itself. We create a Support Vector Classification object.\n"
   ]
  },
  {
   "cell_type": "markdown",
   "metadata": {},
   "source": [
    "## Support Vector Machines\n"
   ]
  },
  {
   "cell_type": "code",
   "execution_count": 22,
   "metadata": {},
   "outputs": [],
   "source": [
    "base_estimator = SVC(gamma='scale')"
   ]
  },
  {
   "cell_type": "markdown",
   "metadata": {},
   "source": [
    "We will train the model and try different kernels and parameter values using the function <code>GridSearchCV</code>. The resulting output will be the model that performs best on the validation data. \n"
   ]
  },
  {
   "cell_type": "code",
   "execution_count": 23,
   "metadata": {},
   "outputs": [
    {
     "name": "stdout",
     "output_type": "stream",
     "text": [
      "{'C': 10, 'kernel': 'linear'}\n",
      "Accuracy: 0.6\n",
      "0.3997313976287842\n"
     ]
    },
    {
     "name": "stderr",
     "output_type": "stream",
     "text": [
      "/home/jupyterlab/conda/envs/python/lib/python3.6/site-packages/sklearn/model_selection/_search.py:841: DeprecationWarning: The default of the `iid` parameter will change from True to False in version 0.22 and will be removed in 0.24. This will change numeric results when test-set sizes are unequal.\n",
      "  DeprecationWarning)\n"
     ]
    }
   ],
   "source": [
    "start_datetime = datetime.now()\n",
    "start = time.time()\n",
    "\n",
    "svm = GridSearchCV(base_estimator, param_grid, cv=5)\n",
    "#Fit the data into the classifier\n",
    "svm.fit(x_train,y_train)\n",
    "#Get values of the grid search\n",
    "best_parameters = svm.best_params_\n",
    "print(best_parameters)\n",
    "#Predict on the validation set\n",
    "y_pred = svm.predict(x_test)\n",
    "# Print accuracy score for the model on validation  set. \n",
    "print(\"Accuracy: \"+str(accuracy_score(y_test, y_pred)))\n",
    "\n",
    "end = time.time()\n",
    "end_datetime = datetime.now()\n",
    "print(end - start)"
   ]
  },
  {
   "cell_type": "markdown",
   "metadata": {},
   "source": [
    "**A Quick Guide to the Confusion Matrix**\n"
   ]
  },
  {
   "cell_type": "markdown",
   "metadata": {},
   "source": [
    "A confusion matrix is a performance measurement for a classification problem. It is a table with a combination of predicted and actual values. On the y-axis, we have the `True` label and on the x-axis we have the `Predicted` label. This example will focus on a binary classifier, i.e. a yes or no model.\n",
    "\n",
    "<table>\n",
    "  <tr>\n",
    "    <td>&nbsp;</td>\n",
    "    <td>Predicted: NO</td>\n",
    "    <td>Predicted: YES</td>\n",
    "  </tr>\n",
    "  <tr>\n",
    "    <td>True: NO</td>\n",
    "    <td>30</td>\n",
    "    <td>30</td>\n",
    "  </tr>\n",
    "  <tr>\n",
    "    <td>True: YES</td>\n",
    "    <td>10</td>\n",
    "    <td>50</td>\n",
    "  </tr>\n",
    "</table>\n",
    "\n",
    "In this matrix, we can see that there are two classes. For example, if we were predicting if an image is a hotdog, \"yes\" will be that it is a hotdog and \"no\" will be that it is not a hotdog. We have 120 predictions and out of those times, the classifier predicted \"yes\" 80 times and \"no\" 40 times but really, there were 60 \"yes\"s and 60 \"no\"s.\n",
    "\n",
    "When we talk about confusion matrix, we talk about a few terms:\n",
    "\n",
    "-   True Positive (TP): Our model predicted \"yes\", and it was actually \"yes\"\n",
    "-   True Negative (TN): Our model predicted \"no\", and it was actually \"no\"\n",
    "-   False Positive (FP): Our model predicted \"yes\", but it was actually \"no\"\n",
    "-   False Negative (FN): Our model predicted \"no\", but it was actually \"yes\"\n",
    "\n",
    "Let's look at it in the context of our example:\n",
    "\n",
    "<table>\n",
    "  <tr>\n",
    "    <td>&nbsp;</td>\n",
    "    <td>Predicted: NO</td>\n",
    "    <td>Predicted: YES</td>\n",
    "  </tr>\n",
    "  <tr>\n",
    "    <td>True: NO</td>\n",
    "    <td>TN = 30</td>\n",
    "    <td>FP = 30</td>\n",
    "    <td>60</td>\n",
    "  </tr>\n",
    "  <tr>\n",
    "    <td>True: YES</td>\n",
    "    <td>FN = 10</td>\n",
    "    <td>TP = 50</td>\n",
    "    <td>60</td>\n",
    "  </tr>\n",
    "  <tr>\n",
    "    <td>&nbsp;</td>\n",
    "    <td>40</td>\n",
    "    <td>80</td>\n",
    "  </tr>\n",
    "</table>\n",
    "\n",
    "**Accuracy** is the number the model got right over the total number of predictions. This is (TP+TN)/Total Number of Predictions.\n"
   ]
  },
  {
   "cell_type": "markdown",
   "metadata": {},
   "source": [
    "Get Confusion Matrix for SVM results:\n"
   ]
  },
  {
   "cell_type": "code",
   "execution_count": 24,
   "metadata": {},
   "outputs": [],
   "source": [
    "label_names = [0, 1]\n",
    "cmx = confusion_matrix(y_test, y_pred, labels=label_names)"
   ]
  },
  {
   "cell_type": "code",
   "execution_count": 25,
   "metadata": {},
   "outputs": [
    {
     "data": {
      "image/png": "[encoded data removed]",
      "text/plain": [
       "<Figure size 432x288 with 2 Axes>"
      ]
     },
     "metadata": {},
     "output_type": "display_data"
    }
   ],
   "source": [
    "df_cm = pd.DataFrame(cmx)\n",
    "# plt.figure(figsize=(10,7))\n",
    "sns.set(font_scale=1.4) # for label size\n",
    "sns.heatmap(df_cm, annot=True, annot_kws={\"size\": 16}) # font size\n",
    "title = \"Confusion Matrix for SVM results\"\n",
    "plt.title(title)\n",
    "plt.show()"
   ]
  },
  {
   "cell_type": "markdown",
   "metadata": {},
   "source": [
    "## Let's Report Our Results Back to CV Studio\n"
   ]
  },
  {
   "cell_type": "code",
   "execution_count": 26,
   "metadata": {},
   "outputs": [
    {
     "name": "stdout",
     "output_type": "stream",
     "text": [
      "Congratulations your results have been reported back to CV Studio!\n"
     ]
    }
   ],
   "source": [
    "parameters = {\n",
    "    'best_params': best_parameters\n",
    "}\n",
    "result = cvstudioClient.report(started=start_datetime, completed=end_datetime, parameters=parameters, accuracy=accuracy_score(y_test, y_pred))\n",
    "\n",
    "if result.ok:\n",
    "    print('Congratulations your results have been reported back to CV Studio!')"
   ]
  },
  {
   "cell_type": "code",
   "execution_count": 27,
   "metadata": {},
   "outputs": [
    {
     "name": "stderr",
     "output_type": "stream",
     "text": [
      "/home/jupyterlab/conda/envs/python/lib/python3.6/site-packages/sklearn/externals/joblib/numpy_pickle.py:104: DeprecationWarning: tostring() is deprecated. Use tobytes() instead.\n",
      "  pickler.file_handle.write(chunk.tostring('C'))\n",
      "/home/jupyterlab/conda/envs/python/lib/python3.6/site-packages/sklearn/externals/joblib/numpy_pickle.py:104: DeprecationWarning: tostring() is deprecated. Use tobytes() instead.\n",
      "  pickler.file_handle.write(chunk.tostring('C'))\n",
      "/home/jupyterlab/conda/envs/python/lib/python3.6/site-packages/sklearn/externals/joblib/numpy_pickle.py:104: DeprecationWarning: tostring() is deprecated. Use tobytes() instead.\n",
      "  pickler.file_handle.write(chunk.tostring('C'))\n",
      "/home/jupyterlab/conda/envs/python/lib/python3.6/site-packages/sklearn/externals/joblib/numpy_pickle.py:104: DeprecationWarning: tostring() is deprecated. Use tobytes() instead.\n",
      "  pickler.file_handle.write(chunk.tostring('C'))\n",
      "/home/jupyterlab/conda/envs/python/lib/python3.6/site-packages/sklearn/externals/joblib/numpy_pickle.py:104: DeprecationWarning: tostring() is deprecated. Use tobytes() instead.\n",
      "  pickler.file_handle.write(chunk.tostring('C'))\n",
      "/home/jupyterlab/conda/envs/python/lib/python3.6/site-packages/sklearn/externals/joblib/numpy_pickle.py:104: DeprecationWarning: tostring() is deprecated. Use tobytes() instead.\n",
      "  pickler.file_handle.write(chunk.tostring('C'))\n",
      "/home/jupyterlab/conda/envs/python/lib/python3.6/site-packages/sklearn/externals/joblib/numpy_pickle.py:104: DeprecationWarning: tostring() is deprecated. Use tobytes() instead.\n",
      "  pickler.file_handle.write(chunk.tostring('C'))\n",
      "/home/jupyterlab/conda/envs/python/lib/python3.6/site-packages/sklearn/externals/joblib/numpy_pickle.py:104: DeprecationWarning: tostring() is deprecated. Use tobytes() instead.\n",
      "  pickler.file_handle.write(chunk.tostring('C'))\n",
      "/home/jupyterlab/conda/envs/python/lib/python3.6/site-packages/sklearn/externals/joblib/numpy_pickle.py:104: DeprecationWarning: tostring() is deprecated. Use tobytes() instead.\n",
      "  pickler.file_handle.write(chunk.tostring('C'))\n"
     ]
    },
    {
     "data": {
      "text/plain": [
       "['svm.joblib']"
      ]
     },
     "execution_count": 27,
     "metadata": {},
     "output_type": "execute_result"
    }
   ],
   "source": [
    "# Save the SVM model to a file\n",
    "joblib.dump(svm.best_estimator_, 'svm.joblib')"
   ]
  },
  {
   "cell_type": "code",
   "execution_count": 28,
   "metadata": {},
   "outputs": [
    {
     "name": "stdout",
     "output_type": "stream",
     "text": [
      "File Uploaded\n"
     ]
    }
   ],
   "source": [
    "# Now let's save the model back to CV Studio\n",
    "result = cvstudioClient.uploadModel('svm.joblib', {'svm_best': svm.best_estimator_})"
   ]
  },
  {
   "cell_type": "markdown",
   "metadata": {},
   "source": [
    "## Awesome! What's Next?\n"
   ]
  },
  {
   "cell_type": "markdown",
   "metadata": {},
   "source": [
    "We will now head back to the `Train` section of 👉🏾 <a href=\"https://vision.skills.network/?utm_medium=Exinfluencer&utm_source=Exinfluencer&utm_content=000026UJ&utm_term=10006555&utm_id=NA-SkillsNetwork-Channel-cvstudio-2021-01-01\"> CV Studio</a> 👈🏾 to take a look at our model parameters and create an <code>Application</code>. The next section will have a notebook that will:\n",
    "\n",
    "<ul>\n",
    "    <li>Load our saved SVM model</li>\n",
    "    <li>Use the best parameters of <code>C and the Kernel</code></li>   \n",
    "    <li>Let you upload your own image and test the model</li>    \n",
    "</ul>\n"
   ]
  },
  {
   "cell_type": "markdown",
   "metadata": {},
   "source": [
    "To create an <code>Application</code> run, click on **Use Model** at the left hand corner, and click **New Application** on the right hand to create a New Use Application. Then click **Launch Notebook**.\n",
    "\n",
    "<center>\n",
    "    <img src=\"https://cf-courses-data.s3.us.cloud-object-storage.appdomain.cloud/IBMDeveloperSkillsNetwork-CV0101EN-SkillsNetwork/images/Screen_Shot_2021-04-16_at_11.59.21_AM.png\" width=\"1000\" alt=\"cognitiveclass.ai logo\"  />\n",
    "</center>\n"
   ]
  },
  {
   "cell_type": "markdown",
   "metadata": {},
   "source": [
    "Now let's go...\n",
    "\n",
    "<center>\n",
    "    <img src=\"https://cf-courses-data.s3.us.cloud-object-storage.appdomain.cloud/IBMDeveloperSkillsNetwork-CV0101EN-SkillsNetwork/images/EasygoingGroundedEelelephant-small.gif\" width=\"400\" alt=\"cognitiveclass.ai logo\"  />\n",
    "</center>\n"
   ]
  },
  {
   "cell_type": "markdown",
   "metadata": {},
   "source": [
    "<h2>Authors</h2>\n"
   ]
  },
  {
   "cell_type": "markdown",
   "metadata": {},
   "source": [
    " [Aije Egwaikhide](https://www.linkedin.com/in/aije-egwaikhide/?utm_medium=Exinfluencer&utm_source=Exinfluencer&utm_content=000026UJ&utm_term=10006555&utm_id=NA-SkillsNetwork-Channel-cvstudio-2021-01-01) is a Data Scientist at IBM who holds a degree in Economics and Statistics from the University of Manitoba and a Post-grad in Business Analytics from St. Lawrence College, Kingston. She is currently pursuing her Masters in Management Analytics at Queens University. She is part of the IBM Developer Skills Network group where she brings her real-world experience to the courses she creates.\n"
   ]
  },
  {
   "cell_type": "markdown",
   "metadata": {},
   "source": [
    "<h2>Change Log</h2>\n"
   ]
  },
  {
   "cell_type": "markdown",
   "metadata": {},
   "source": [
    "<table>\n",
    "    <tr>\n",
    "        <th>Date (YYYY-MM-DD)</th>\n",
    "        <th>Version</th>\n",
    "        <th>Changed By</th>\n",
    "        <th>Change Description</th>\n",
    "    </tr>\n",
    "    <tr>\n",
    "        <td>2021-05-25</td>\n",
    "        <td>1.2</td>\n",
    "        <td>Kathy</td>\n",
    "        <td>Modified multiple areas</td>\n",
    "    </tr>\n",
    "    <tr>\n",
    "        <td>2021-05-25</td>\n",
    "        <td>1.2</td>\n",
    "        <td>Yasmine</td>\n",
    "        <td>Modified multiple areas</td>\n",
    "    </tr>\n",
    "     <tr>\n",
    "        <td>2021-04-10</td>\n",
    "        <td>1.1</td>\n",
    "        <td>Aije</td>\n",
    "        <td>Fixed grammatical errors</td>\n",
    "    </tr>\n",
    "    <tr>\n",
    "        <td>2021-04-09</td>\n",
    "        <td>1.0</td>\n",
    "        <td>Aije</td>\n",
    "        <td>Updated to new template</td>\n",
    "    </tr>\n",
    "    <tr>\n",
    "        <td>2021-02-24</td>\n",
    "        <td>0.1</td>\n",
    "        <td>Aije</td>\n",
    "        <td>Created original version of the lab</td>\n",
    "    </tr>\n",
    "</table>\n"
   ]
  },
  {
   "cell_type": "markdown",
   "metadata": {},
   "source": [
    "Copyright © 2021 IBM Corporation. All rights reserved.\n"
   ]
  }
 ],
 "metadata": {
  "kernelspec": {
   "display_name": "Python",
   "language": "python",
   "name": "conda-env-python-py"
  },
  "language_info": {
   "codemirror_mode": {
    "name": "ipython",
    "version": 3
   },
   "file_extension": ".py",
   "mimetype": "text/x-python",
   "name": "python",
   "nbconvert_exporter": "python",
   "pygments_lexer": "ipython3",
   "version": "3.6.13"
  }
 },
 "nbformat": 4,
 "nbformat_minor": 4
}
